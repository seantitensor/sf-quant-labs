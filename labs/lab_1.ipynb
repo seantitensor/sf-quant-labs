{
 "cells": [
  {
   "cell_type": "markdown",
   "id": "9c96f31a",
   "metadata": {},
   "source": [
    "# Lab 1: Silver Fund Quant Data Module and Returns\n",
    "\n",
    "In this lab we will:\n",
    "- Explore how to pull data from the Silver Fund Quant data module.\n",
    "- Demonstrate the different properties of returns."
   ]
  },
  {
   "cell_type": "markdown",
   "id": "0a980b29",
   "metadata": {},
   "source": [
    "## Setup\n",
    "\n",
    "In order to have a smooth experience with this lab do the following:\n",
    "\n",
    "### 1. Log into the Fulton Super Computer.\n",
    "\n",
    "In order to log into you must have an account at [https://rc.byu.edu/](https://rc.byu.edu/) and be added to the `grp_quant` group by Brian Boyer.\n",
    "\n",
    "It can take some time to get approved so make sure to create an account and reach out to Brian promptly.\n",
    "\n",
    "### 2. Clone this repo to the desired location (I prefer to have a `Projects` folder where I keep all of my repositories).\n",
    "\n",
    "Clone the repo by running\n",
    "```bash\n",
    "git clone https://github.com/BYUSilverFund/sf-quant-labs.git\n",
    "```\n",
    "\n",
    "### 3. Install `uv` (Package Manager)\n",
    "\n",
    "We use `uv` to create and manage virtual environments.\n",
    "\n",
    "To install `uv` run\n",
    "\n",
    "```bash\n",
    "curl -LsSf https://astral.sh/uv/install.sh | sh\n",
    "```\n",
    "\n",
    "Check that `uv` is installed by running\n",
    "\n",
    "```bash\n",
    "uv --version\n",
    "```\n",
    "\n",
    "If this returns an error you might need to add uv to your path. Run:\n",
    "\n",
    "```bash\n",
    "source $HOME/.local/bin/env\n",
    "```\n",
    "\n",
    "Restart your terminal for the changes to take effect.\n",
    "\n",
    "### 4. Create a Virtual Environment\n",
    "\n",
    "The virtual environment will make it so that we have consistent package and Python versions across all devices.\n",
    "\n",
    "With `uv` it is really easy to create a virtual environment with synced dependencies.\n",
    "\n",
    "Just run\n",
    "\n",
    "```bash\n",
    "uv sync\n",
    "```\n",
    "\n",
    "Activate the environment by running\n",
    "\n",
    "``` bash\n",
    "source .venv/bin/activate\n",
    "```"
   ]
  },
  {
   "cell_type": "markdown",
   "id": "46266d32",
   "metadata": {},
   "source": [
    "## Imports\n",
    "\n",
    "With all of the setup out of the way we will import the necessary Python packages for the lab.\n",
    "\n",
    "- `sf_quant`: Silver Fund Quant Team package that includes modules for loading data, optimizing portfolios, backtesting, and analyzing performance.\n",
    "- `datetime`: Native Python library for creating Python `date` types.\n",
    "- `polars`: Data frame library similar to Pandas but with a much cleaner API and 100x speed ups."
   ]
  },
  {
   "cell_type": "code",
   "execution_count": 1,
   "id": "1e509698",
   "metadata": {},
   "outputs": [
    {
     "name": "stderr",
     "output_type": "stream",
     "text": [
      "/home/stiten/Documents/sf-quant-labs/.venv/lib64/python3.11/site-packages/tqdm/auto.py:21: TqdmWarning: IProgress not found. Please update jupyter and ipywidgets. See https://ipywidgets.readthedocs.io/en/stable/user_install.html\n",
      "  from .autonotebook import tqdm as notebook_tqdm\n",
      "2025-09-07 22:39:53,285\tINFO util.py:154 -- Missing packages: ['ipywidgets']. Run `pip install -U ipywidgets`, then restart the notebook server for rich notebook output.\n"
     ]
    }
   ],
   "source": [
    "import sf_quant as sf\n",
    "import polars as pl\n",
    "import datetime as dt"
   ]
  },
  {
   "cell_type": "markdown",
   "id": "ce7e2772",
   "metadata": {},
   "source": [
    "## Data\n",
    "\n",
    "Use the following code to pull data for our investment universe from 2024-01-01 to 2024-12-31."
   ]
  },
  {
   "cell_type": "code",
   "execution_count": 2,
   "id": "3da61d6f",
   "metadata": {},
   "outputs": [
    {
     "name": "stdout",
     "output_type": "stream",
     "text": [
      "shape: (31, 2)\n",
      "┌─────────────────────────────────┬─────────┐\n",
      "│ column                          ┆ dtype   │\n",
      "│ ---                             ┆ ---     │\n",
      "│ str                             ┆ str     │\n",
      "╞═════════════════════════════════╪═════════╡\n",
      "│ date                            ┆ Date    │\n",
      "│ rootid                          ┆ String  │\n",
      "│ barrid                          ┆ String  │\n",
      "│ issuerid                        ┆ String  │\n",
      "│ instrument                      ┆ String  │\n",
      "│ name                            ┆ String  │\n",
      "│ cusip                           ┆ String  │\n",
      "│ ticker                          ┆ String  │\n",
      "│ price                           ┆ Float64 │\n",
      "│ return                          ┆ Float64 │\n",
      "│ specific_return                 ┆ Float64 │\n",
      "│ market_cap                      ┆ Float64 │\n",
      "│ price_source                    ┆ String  │\n",
      "│ currency                        ┆ String  │\n",
      "│ iso_country_code                ┆ String  │\n",
      "│ iso_currency_code               ┆ String  │\n",
      "│ yield                           ┆ Float64 │\n",
      "│ total_risk                      ┆ Float64 │\n",
      "│ specific_risk                   ┆ Float64 │\n",
      "│ historical_beta                 ┆ Float64 │\n",
      "│ predicted_beta                  ┆ Float64 │\n",
      "│ russell_1000                    ┆ Boolean │\n",
      "│ russell_2000                    ┆ Boolean │\n",
      "│ daily_volume                    ┆ Float64 │\n",
      "│ average_daily_volume_30         ┆ Float64 │\n",
      "│ average_daily_volume_60         ┆ Float64 │\n",
      "│ average_daily_volume_90         ┆ Float64 │\n",
      "│ bid_ask_spread                  ┆ Float64 │\n",
      "│ average_daily_bid_ask_spread_3… ┆ Float64 │\n",
      "│ average_daily_bid_ask_spread_6… ┆ Float64 │\n",
      "│ average_daily_bid_ask_spread_9… ┆ Float64 │\n",
      "└─────────────────────────────────┴─────────┘\n"
     ]
    }
   ],
   "source": [
    "print(sf.data.get_assets_columns()) # lists available columns"
   ]
  },
  {
   "cell_type": "code",
   "execution_count": 3,
   "id": "df5bc083",
   "metadata": {},
   "outputs": [
    {
     "data": {
      "text/html": [
       "<div><style>\n",
       ".dataframe > thead > tr,\n",
       ".dataframe > tbody > tr {\n",
       "  text-align: right;\n",
       "  white-space: pre-wrap;\n",
       "}\n",
       "</style>\n",
       "<small>shape: (739_726, 3)</small><table border=\"1\" class=\"dataframe\"><thead><tr><th>date</th><th>barrid</th><th>return</th></tr><tr><td>date</td><td>str</td><td>f64</td></tr></thead><tbody><tr><td>2024-01-02</td><td>&quot;USA06Z1&quot;</td><td>-10.2623</td></tr><tr><td>2024-01-03</td><td>&quot;USA06Z1&quot;</td><td>-1.2071</td></tr><tr><td>2024-01-04</td><td>&quot;USA06Z1&quot;</td><td>-0.1929</td></tr><tr><td>2024-01-05</td><td>&quot;USA06Z1&quot;</td><td>0.5155</td></tr><tr><td>2024-01-08</td><td>&quot;USA06Z1&quot;</td><td>5.3846</td></tr><tr><td>&hellip;</td><td>&hellip;</td><td>&hellip;</td></tr><tr><td>2024-12-24</td><td>&quot;USBQOR1&quot;</td><td>2.5872</td></tr><tr><td>2024-12-26</td><td>&quot;USBQOR1&quot;</td><td>4.293</td></tr><tr><td>2024-12-27</td><td>&quot;USBQOR1&quot;</td><td>-5.108</td></tr><tr><td>2024-12-30</td><td>&quot;USBQOR1&quot;</td><td>-4.2663</td></tr><tr><td>2024-12-31</td><td>&quot;USBQOR1&quot;</td><td>-1.6749</td></tr></tbody></table></div>"
      ],
      "text/plain": [
       "shape: (739_726, 3)\n",
       "┌────────────┬─────────┬──────────┐\n",
       "│ date       ┆ barrid  ┆ return   │\n",
       "│ ---        ┆ ---     ┆ ---      │\n",
       "│ date       ┆ str     ┆ f64      │\n",
       "╞════════════╪═════════╪══════════╡\n",
       "│ 2024-01-02 ┆ USA06Z1 ┆ -10.2623 │\n",
       "│ 2024-01-03 ┆ USA06Z1 ┆ -1.2071  │\n",
       "│ 2024-01-04 ┆ USA06Z1 ┆ -0.1929  │\n",
       "│ 2024-01-05 ┆ USA06Z1 ┆ 0.5155   │\n",
       "│ 2024-01-08 ┆ USA06Z1 ┆ 5.3846   │\n",
       "│ …          ┆ …       ┆ …        │\n",
       "│ 2024-12-24 ┆ USBQOR1 ┆ 2.5872   │\n",
       "│ 2024-12-26 ┆ USBQOR1 ┆ 4.293    │\n",
       "│ 2024-12-27 ┆ USBQOR1 ┆ -5.108   │\n",
       "│ 2024-12-30 ┆ USBQOR1 ┆ -4.2663  │\n",
       "│ 2024-12-31 ┆ USBQOR1 ┆ -1.6749  │\n",
       "└────────────┴─────────┴──────────┘"
      ]
     },
     "execution_count": 3,
     "metadata": {},
     "output_type": "execute_result"
    }
   ],
   "source": [
    "start = dt.date(2024, 1, 1)\n",
    "end =  dt.date(2024, 12, 31)\n",
    "\n",
    "columns = [\n",
    "    'date',\n",
    "    'barrid',\n",
    "    'return'\n",
    "    \n",
    "]\n",
    "\n",
    "df = sf.data.load_assets(\n",
    "    start=start,\n",
    "    end=end,\n",
    "    in_universe=True,\n",
    "    columns=columns\n",
    ")\n",
    "\n",
    "df"
   ]
  },
  {
   "cell_type": "markdown",
   "id": "03fca7cd",
   "metadata": {},
   "source": [
    "## Log returns\n",
    "\n",
    "### Instructions\n",
    "1. Compute the log returns for each asset.\n",
    "2. Compute the cummulative log returns for each asset.\n",
    "3. Run the assertion cell to make sure you're results are correct.\n",
    "\n",
    "Make sure to sort prior to computing time series metrics and use `.over()` apply the computation in groups.\n",
    "\n",
    "Log returns have the nice property of being additive. Use this to your advantage!"
   ]
  },
  {
   "cell_type": "code",
   "execution_count": 4,
   "id": "325acff5",
   "metadata": {},
   "outputs": [
    {
     "data": {
      "text/html": [
       "<div><style>\n",
       ".dataframe > thead > tr,\n",
       ".dataframe > tbody > tr {\n",
       "  text-align: right;\n",
       "  white-space: pre-wrap;\n",
       "}\n",
       "</style>\n",
       "<small>shape: (739_726, 4)</small><table border=\"1\" class=\"dataframe\"><thead><tr><th>date</th><th>barrid</th><th>return</th><th>log_return</th></tr><tr><td>date</td><td>str</td><td>f64</td><td>f64</td></tr></thead><tbody><tr><td>2024-01-02</td><td>&quot;USA06Z1&quot;</td><td>-10.2623</td><td>-0.108279</td></tr><tr><td>2024-01-03</td><td>&quot;USA06Z1&quot;</td><td>-1.2071</td><td>-0.012144</td></tr><tr><td>2024-01-04</td><td>&quot;USA06Z1&quot;</td><td>-0.1929</td><td>-0.001931</td></tr><tr><td>2024-01-05</td><td>&quot;USA06Z1&quot;</td><td>0.5155</td><td>0.005142</td></tr><tr><td>2024-01-08</td><td>&quot;USA06Z1&quot;</td><td>5.3846</td><td>0.052446</td></tr><tr><td>&hellip;</td><td>&hellip;</td><td>&hellip;</td><td>&hellip;</td></tr><tr><td>2024-12-24</td><td>&quot;USBQOR1&quot;</td><td>2.5872</td><td>0.025543</td></tr><tr><td>2024-12-26</td><td>&quot;USBQOR1&quot;</td><td>4.293</td><td>0.042034</td></tr><tr><td>2024-12-27</td><td>&quot;USBQOR1&quot;</td><td>-5.108</td><td>-0.052431</td></tr><tr><td>2024-12-30</td><td>&quot;USBQOR1&quot;</td><td>-4.2663</td><td>-0.0436</td></tr><tr><td>2024-12-31</td><td>&quot;USBQOR1&quot;</td><td>-1.6749</td><td>-0.016891</td></tr></tbody></table></div>"
      ],
      "text/plain": [
       "shape: (739_726, 4)\n",
       "┌────────────┬─────────┬──────────┬────────────┐\n",
       "│ date       ┆ barrid  ┆ return   ┆ log_return │\n",
       "│ ---        ┆ ---     ┆ ---      ┆ ---        │\n",
       "│ date       ┆ str     ┆ f64      ┆ f64        │\n",
       "╞════════════╪═════════╪══════════╪════════════╡\n",
       "│ 2024-01-02 ┆ USA06Z1 ┆ -10.2623 ┆ -0.108279  │\n",
       "│ 2024-01-03 ┆ USA06Z1 ┆ -1.2071  ┆ -0.012144  │\n",
       "│ 2024-01-04 ┆ USA06Z1 ┆ -0.1929  ┆ -0.001931  │\n",
       "│ 2024-01-05 ┆ USA06Z1 ┆ 0.5155   ┆ 0.005142   │\n",
       "│ 2024-01-08 ┆ USA06Z1 ┆ 5.3846   ┆ 0.052446   │\n",
       "│ …          ┆ …       ┆ …        ┆ …          │\n",
       "│ 2024-12-24 ┆ USBQOR1 ┆ 2.5872   ┆ 0.025543   │\n",
       "│ 2024-12-26 ┆ USBQOR1 ┆ 4.293    ┆ 0.042034   │\n",
       "│ 2024-12-27 ┆ USBQOR1 ┆ -5.108   ┆ -0.052431  │\n",
       "│ 2024-12-30 ┆ USBQOR1 ┆ -4.2663  ┆ -0.0436    │\n",
       "│ 2024-12-31 ┆ USBQOR1 ┆ -1.6749  ┆ -0.016891  │\n",
       "└────────────┴─────────┴──────────┴────────────┘"
      ]
     },
     "execution_count": 4,
     "metadata": {},
     "output_type": "execute_result"
    }
   ],
   "source": [
    "def task_compute_log_returns(df: pl.DataFrame) -> pl.DataFrame:\n",
    "    \"\"\"\n",
    "    Compute the log returns for each security and date combo.\n",
    "\n",
    "    Args:\n",
    "        df (pl.DataFrame): Data frame containing columns date, barrid, and return\n",
    "\n",
    "    Returns:\n",
    "        pl.DataFrame: Data frame containing columns date, barrid, return, and log_return\n",
    "    \"\"\"\n",
    "\n",
    "    df = df.with_columns(\n",
    "        pl.col(\"return\")\n",
    "            .truediv(100)   \n",
    "            .log1p()   \n",
    "            .alias(\"log_return\")\n",
    "    )\n",
    "\n",
    "    return df\n",
    "\n",
    "df_log = task_compute_log_returns(df)\n",
    "\n",
    "df_log"
   ]
  },
  {
   "cell_type": "code",
   "execution_count": 5,
   "id": "84ca93d1",
   "metadata": {},
   "outputs": [
    {
     "data": {
      "text/html": [
       "<div><style>\n",
       ".dataframe > thead > tr,\n",
       ".dataframe > tbody > tr {\n",
       "  text-align: right;\n",
       "  white-space: pre-wrap;\n",
       "}\n",
       "</style>\n",
       "<small>shape: (739_726, 5)</small><table border=\"1\" class=\"dataframe\"><thead><tr><th>date</th><th>barrid</th><th>return</th><th>log_return</th><th>cumulative_log_return</th></tr><tr><td>date</td><td>str</td><td>f64</td><td>f64</td><td>f64</td></tr></thead><tbody><tr><td>2024-01-02</td><td>&quot;USA06Z1&quot;</td><td>-10.2623</td><td>-0.108279</td><td>-0.108279</td></tr><tr><td>2024-01-03</td><td>&quot;USA06Z1&quot;</td><td>-1.2071</td><td>-0.012144</td><td>-0.120424</td></tr><tr><td>2024-01-04</td><td>&quot;USA06Z1&quot;</td><td>-0.1929</td><td>-0.001931</td><td>-0.122355</td></tr><tr><td>2024-01-05</td><td>&quot;USA06Z1&quot;</td><td>0.5155</td><td>0.005142</td><td>-0.117213</td></tr><tr><td>2024-01-08</td><td>&quot;USA06Z1&quot;</td><td>5.3846</td><td>0.052446</td><td>-0.064766</td></tr><tr><td>&hellip;</td><td>&hellip;</td><td>&hellip;</td><td>&hellip;</td><td>&hellip;</td></tr><tr><td>2024-12-24</td><td>&quot;USBQOR1&quot;</td><td>2.5872</td><td>0.025543</td><td>0.087605</td></tr><tr><td>2024-12-26</td><td>&quot;USBQOR1&quot;</td><td>4.293</td><td>0.042034</td><td>0.129639</td></tr><tr><td>2024-12-27</td><td>&quot;USBQOR1&quot;</td><td>-5.108</td><td>-0.052431</td><td>0.077208</td></tr><tr><td>2024-12-30</td><td>&quot;USBQOR1&quot;</td><td>-4.2663</td><td>-0.0436</td><td>0.033608</td></tr><tr><td>2024-12-31</td><td>&quot;USBQOR1&quot;</td><td>-1.6749</td><td>-0.016891</td><td>0.016717</td></tr></tbody></table></div>"
      ],
      "text/plain": [
       "shape: (739_726, 5)\n",
       "┌────────────┬─────────┬──────────┬────────────┬───────────────────────┐\n",
       "│ date       ┆ barrid  ┆ return   ┆ log_return ┆ cumulative_log_return │\n",
       "│ ---        ┆ ---     ┆ ---      ┆ ---        ┆ ---                   │\n",
       "│ date       ┆ str     ┆ f64      ┆ f64        ┆ f64                   │\n",
       "╞════════════╪═════════╪══════════╪════════════╪═══════════════════════╡\n",
       "│ 2024-01-02 ┆ USA06Z1 ┆ -10.2623 ┆ -0.108279  ┆ -0.108279             │\n",
       "│ 2024-01-03 ┆ USA06Z1 ┆ -1.2071  ┆ -0.012144  ┆ -0.120424             │\n",
       "│ 2024-01-04 ┆ USA06Z1 ┆ -0.1929  ┆ -0.001931  ┆ -0.122355             │\n",
       "│ 2024-01-05 ┆ USA06Z1 ┆ 0.5155   ┆ 0.005142   ┆ -0.117213             │\n",
       "│ 2024-01-08 ┆ USA06Z1 ┆ 5.3846   ┆ 0.052446   ┆ -0.064766             │\n",
       "│ …          ┆ …       ┆ …        ┆ …          ┆ …                     │\n",
       "│ 2024-12-24 ┆ USBQOR1 ┆ 2.5872   ┆ 0.025543   ┆ 0.087605              │\n",
       "│ 2024-12-26 ┆ USBQOR1 ┆ 4.293    ┆ 0.042034   ┆ 0.129639              │\n",
       "│ 2024-12-27 ┆ USBQOR1 ┆ -5.108   ┆ -0.052431  ┆ 0.077208              │\n",
       "│ 2024-12-30 ┆ USBQOR1 ┆ -4.2663  ┆ -0.0436    ┆ 0.033608              │\n",
       "│ 2024-12-31 ┆ USBQOR1 ┆ -1.6749  ┆ -0.016891  ┆ 0.016717              │\n",
       "└────────────┴─────────┴──────────┴────────────┴───────────────────────┘"
      ]
     },
     "execution_count": 5,
     "metadata": {},
     "output_type": "execute_result"
    }
   ],
   "source": [
    "def task_compute_cumulative_log_returns(df_log: pl.DataFrame) -> pl.DataFrame:\n",
    "    \"\"\"\n",
    "    Compute the cummulative log returns for each security and date combo.\n",
    "\n",
    "    Args:\n",
    "        df_log (pl.DataFrame): Data frame containing columns date, barrid, return, and log_return\n",
    "\n",
    "    Returns:\n",
    "        pl.DataFrame: Data frame containing columns date, barrid, return, log_return, and cumulative_log_return\n",
    "    \"\"\"\n",
    "\n",
    "    df = df_log.sort([\"barrid\", \"date\"]).with_columns(\n",
    "        pl.col(\"log_return\").cum_sum().over(\"barrid\").alias(\"cumulative_log_return\")\n",
    "    )\n",
    "\n",
    "    return df\n",
    "\n",
    "df_cum_log = task_compute_cumulative_log_returns(df_log)\n",
    "\n",
    "df_cum_log"
   ]
  },
  {
   "cell_type": "code",
   "execution_count": 6,
   "id": "b478070e",
   "metadata": {},
   "outputs": [],
   "source": [
    "assert df_cum_log['cumulative_log_return'].max() == 2.8475532093020557"
   ]
  },
  {
   "cell_type": "markdown",
   "id": "8215914b",
   "metadata": {},
   "source": [
    "## Compounded Returns\n",
    "\n",
    "### Instructions\n",
    "\n",
    "1. Compute the cumulative compounded returns for each asset.\n",
    "2. Run the assertion to check that your results are correct."
   ]
  },
  {
   "cell_type": "code",
   "execution_count": 7,
   "id": "13bd8e94",
   "metadata": {},
   "outputs": [
    {
     "data": {
      "text/html": [
       "<div><style>\n",
       ".dataframe > thead > tr,\n",
       ".dataframe > tbody > tr {\n",
       "  text-align: right;\n",
       "  white-space: pre-wrap;\n",
       "}\n",
       "</style>\n",
       "<small>shape: (739_726, 6)</small><table border=\"1\" class=\"dataframe\"><thead><tr><th>date</th><th>barrid</th><th>return</th><th>log_return</th><th>cumulative_log_return</th><th>cumulative_compounded_return</th></tr><tr><td>date</td><td>str</td><td>f64</td><td>f64</td><td>f64</td><td>f64</td></tr></thead><tbody><tr><td>2024-01-02</td><td>&quot;USA06Z1&quot;</td><td>-10.2623</td><td>-0.108279</td><td>-0.108279</td><td>-0.102623</td></tr><tr><td>2024-01-03</td><td>&quot;USA06Z1&quot;</td><td>-1.2071</td><td>-0.012144</td><td>-0.120424</td><td>-0.113455</td></tr><tr><td>2024-01-04</td><td>&quot;USA06Z1&quot;</td><td>-0.1929</td><td>-0.001931</td><td>-0.122355</td><td>-0.115165</td></tr><tr><td>2024-01-05</td><td>&quot;USA06Z1&quot;</td><td>0.5155</td><td>0.005142</td><td>-0.117213</td><td>-0.110604</td></tr><tr><td>2024-01-08</td><td>&quot;USA06Z1&quot;</td><td>5.3846</td><td>0.052446</td><td>-0.064766</td><td>-0.062714</td></tr><tr><td>&hellip;</td><td>&hellip;</td><td>&hellip;</td><td>&hellip;</td><td>&hellip;</td><td>&hellip;</td></tr><tr><td>2024-12-24</td><td>&quot;USBQOR1&quot;</td><td>2.5872</td><td>0.025543</td><td>0.087605</td><td>0.091556</td></tr><tr><td>2024-12-26</td><td>&quot;USBQOR1&quot;</td><td>4.293</td><td>0.042034</td><td>0.129639</td><td>0.138417</td></tr><tr><td>2024-12-27</td><td>&quot;USBQOR1&quot;</td><td>-5.108</td><td>-0.052431</td><td>0.077208</td><td>0.080267</td></tr><tr><td>2024-12-30</td><td>&quot;USBQOR1&quot;</td><td>-4.2663</td><td>-0.0436</td><td>0.033608</td><td>0.034179</td></tr><tr><td>2024-12-31</td><td>&quot;USBQOR1&quot;</td><td>-1.6749</td><td>-0.016891</td><td>0.016717</td><td>0.016858</td></tr></tbody></table></div>"
      ],
      "text/plain": [
       "shape: (739_726, 6)\n",
       "┌────────────┬─────────┬──────────┬────────────┬───────────────────────┬───────────────────────────┐\n",
       "│ date       ┆ barrid  ┆ return   ┆ log_return ┆ cumulative_log_return ┆ cumulative_compounded_ret │\n",
       "│ ---        ┆ ---     ┆ ---      ┆ ---        ┆ ---                   ┆ urn                       │\n",
       "│ date       ┆ str     ┆ f64      ┆ f64        ┆ f64                   ┆ ---                       │\n",
       "│            ┆         ┆          ┆            ┆                       ┆ f64                       │\n",
       "╞════════════╪═════════╪══════════╪════════════╪═══════════════════════╪═══════════════════════════╡\n",
       "│ 2024-01-02 ┆ USA06Z1 ┆ -10.2623 ┆ -0.108279  ┆ -0.108279             ┆ -0.102623                 │\n",
       "│ 2024-01-03 ┆ USA06Z1 ┆ -1.2071  ┆ -0.012144  ┆ -0.120424             ┆ -0.113455                 │\n",
       "│ 2024-01-04 ┆ USA06Z1 ┆ -0.1929  ┆ -0.001931  ┆ -0.122355             ┆ -0.115165                 │\n",
       "│ 2024-01-05 ┆ USA06Z1 ┆ 0.5155   ┆ 0.005142   ┆ -0.117213             ┆ -0.110604                 │\n",
       "│ 2024-01-08 ┆ USA06Z1 ┆ 5.3846   ┆ 0.052446   ┆ -0.064766             ┆ -0.062714                 │\n",
       "│ …          ┆ …       ┆ …        ┆ …          ┆ …                     ┆ …                         │\n",
       "│ 2024-12-24 ┆ USBQOR1 ┆ 2.5872   ┆ 0.025543   ┆ 0.087605              ┆ 0.091556                  │\n",
       "│ 2024-12-26 ┆ USBQOR1 ┆ 4.293    ┆ 0.042034   ┆ 0.129639              ┆ 0.138417                  │\n",
       "│ 2024-12-27 ┆ USBQOR1 ┆ -5.108   ┆ -0.052431  ┆ 0.077208              ┆ 0.080267                  │\n",
       "│ 2024-12-30 ┆ USBQOR1 ┆ -4.2663  ┆ -0.0436    ┆ 0.033608              ┆ 0.034179                  │\n",
       "│ 2024-12-31 ┆ USBQOR1 ┆ -1.6749  ┆ -0.016891  ┆ 0.016717              ┆ 0.016858                  │\n",
       "└────────────┴─────────┴──────────┴────────────┴───────────────────────┴───────────────────────────┘"
      ]
     },
     "execution_count": 7,
     "metadata": {},
     "output_type": "execute_result"
    }
   ],
   "source": [
    "def task_compute_cumulative_compounded_returns(df_cum_log: pl.DataFrame) -> pl.DataFrame:\n",
    "    \"\"\"\n",
    "    Compute the cumulative compounded returns for each security.\n",
    "\n",
    "    Args:\n",
    "        df_cum_log (pl.DataFrame): Data frame containing columns date, barrid, return, log_return, and cumulative_log_return\n",
    "\n",
    "    Returns:\n",
    "        pl.DataFrame: Data frame containing columns date, barrid, return, log_return, cumulative_log_return, and cumulative_compouned_return\n",
    "    \"\"\"\n",
    "\n",
    "    df_cum_comp = df_cum_log.sort([\"barrid\", \"date\"]).with_columns(\n",
    "        (pl.col(\"return\").truediv(100).add(1).cum_prod().over(\"barrid\") - 1).alias(\"cumulative_compounded_return\")\n",
    "    )\n",
    "    return df_cum_comp\n",
    "\n",
    "df_cum_comp = task_compute_cumulative_compounded_returns(df_cum_log)\n",
    "\n",
    "df_cum_comp"
   ]
  },
  {
   "cell_type": "code",
   "execution_count": 8,
   "id": "dbbfe073",
   "metadata": {},
   "outputs": [],
   "source": [
    "assert df_cum_comp['cumulative_compounded_return'].max() == 16.245533963705515"
   ]
  },
  {
   "cell_type": "markdown",
   "id": "f29e5907",
   "metadata": {},
   "source": [
    "## Exponentiation\n",
    "\n",
    "Note that the max cumulative log return is different from the cumulative compounded return.\n",
    "\n",
    "Why is that?\n",
    "\n",
    "The answer is that the cumulative log return is still in log space!\n",
    "\n",
    "### Instructions\n",
    "\n",
    "1. Exponentiate the cumulative log returns to put them back into the original space.\n",
    "2. Check that the exponentiated returns match the cumulative compounded returns."
   ]
  },
  {
   "cell_type": "code",
   "execution_count": 9,
   "id": "f70fbf90",
   "metadata": {},
   "outputs": [
    {
     "data": {
      "text/html": [
       "<div><style>\n",
       ".dataframe > thead > tr,\n",
       ".dataframe > tbody > tr {\n",
       "  text-align: right;\n",
       "  white-space: pre-wrap;\n",
       "}\n",
       "</style>\n",
       "<small>shape: (739_726, 6)</small><table border=\"1\" class=\"dataframe\"><thead><tr><th>date</th><th>barrid</th><th>return</th><th>log_return</th><th>cumulative_log_return</th><th>cumulative_compounded_return</th></tr><tr><td>date</td><td>str</td><td>f64</td><td>f64</td><td>f64</td><td>f64</td></tr></thead><tbody><tr><td>2024-01-02</td><td>&quot;USA06Z1&quot;</td><td>-10.2623</td><td>-0.108279</td><td>-0.108279</td><td>-0.102623</td></tr><tr><td>2024-01-03</td><td>&quot;USA06Z1&quot;</td><td>-1.2071</td><td>-0.012144</td><td>-0.120424</td><td>-0.113455</td></tr><tr><td>2024-01-04</td><td>&quot;USA06Z1&quot;</td><td>-0.1929</td><td>-0.001931</td><td>-0.122355</td><td>-0.115165</td></tr><tr><td>2024-01-05</td><td>&quot;USA06Z1&quot;</td><td>0.5155</td><td>0.005142</td><td>-0.117213</td><td>-0.110604</td></tr><tr><td>2024-01-08</td><td>&quot;USA06Z1&quot;</td><td>5.3846</td><td>0.052446</td><td>-0.064766</td><td>-0.062714</td></tr><tr><td>&hellip;</td><td>&hellip;</td><td>&hellip;</td><td>&hellip;</td><td>&hellip;</td><td>&hellip;</td></tr><tr><td>2024-12-24</td><td>&quot;USBQOR1&quot;</td><td>2.5872</td><td>0.025543</td><td>0.087605</td><td>0.091556</td></tr><tr><td>2024-12-26</td><td>&quot;USBQOR1&quot;</td><td>4.293</td><td>0.042034</td><td>0.129639</td><td>0.138417</td></tr><tr><td>2024-12-27</td><td>&quot;USBQOR1&quot;</td><td>-5.108</td><td>-0.052431</td><td>0.077208</td><td>0.080267</td></tr><tr><td>2024-12-30</td><td>&quot;USBQOR1&quot;</td><td>-4.2663</td><td>-0.0436</td><td>0.033608</td><td>0.034179</td></tr><tr><td>2024-12-31</td><td>&quot;USBQOR1&quot;</td><td>-1.6749</td><td>-0.016891</td><td>0.016717</td><td>0.016858</td></tr></tbody></table></div>"
      ],
      "text/plain": [
       "shape: (739_726, 6)\n",
       "┌────────────┬─────────┬──────────┬────────────┬───────────────────────┬───────────────────────────┐\n",
       "│ date       ┆ barrid  ┆ return   ┆ log_return ┆ cumulative_log_return ┆ cumulative_compounded_ret │\n",
       "│ ---        ┆ ---     ┆ ---      ┆ ---        ┆ ---                   ┆ urn                       │\n",
       "│ date       ┆ str     ┆ f64      ┆ f64        ┆ f64                   ┆ ---                       │\n",
       "│            ┆         ┆          ┆            ┆                       ┆ f64                       │\n",
       "╞════════════╪═════════╪══════════╪════════════╪═══════════════════════╪═══════════════════════════╡\n",
       "│ 2024-01-02 ┆ USA06Z1 ┆ -10.2623 ┆ -0.108279  ┆ -0.108279             ┆ -0.102623                 │\n",
       "│ 2024-01-03 ┆ USA06Z1 ┆ -1.2071  ┆ -0.012144  ┆ -0.120424             ┆ -0.113455                 │\n",
       "│ 2024-01-04 ┆ USA06Z1 ┆ -0.1929  ┆ -0.001931  ┆ -0.122355             ┆ -0.115165                 │\n",
       "│ 2024-01-05 ┆ USA06Z1 ┆ 0.5155   ┆ 0.005142   ┆ -0.117213             ┆ -0.110604                 │\n",
       "│ 2024-01-08 ┆ USA06Z1 ┆ 5.3846   ┆ 0.052446   ┆ -0.064766             ┆ -0.062714                 │\n",
       "│ …          ┆ …       ┆ …        ┆ …          ┆ …                     ┆ …                         │\n",
       "│ 2024-12-24 ┆ USBQOR1 ┆ 2.5872   ┆ 0.025543   ┆ 0.087605              ┆ 0.091556                  │\n",
       "│ 2024-12-26 ┆ USBQOR1 ┆ 4.293    ┆ 0.042034   ┆ 0.129639              ┆ 0.138417                  │\n",
       "│ 2024-12-27 ┆ USBQOR1 ┆ -5.108   ┆ -0.052431  ┆ 0.077208              ┆ 0.080267                  │\n",
       "│ 2024-12-30 ┆ USBQOR1 ┆ -4.2663  ┆ -0.0436    ┆ 0.033608              ┆ 0.034179                  │\n",
       "│ 2024-12-31 ┆ USBQOR1 ┆ -1.6749  ┆ -0.016891  ┆ 0.016717              ┆ 0.016858                  │\n",
       "└────────────┴─────────┴──────────┴────────────┴───────────────────────┴───────────────────────────┘"
      ]
     },
     "execution_count": 9,
     "metadata": {},
     "output_type": "execute_result"
    }
   ],
   "source": [
    "df_cum_comp"
   ]
  },
  {
   "cell_type": "code",
   "execution_count": 10,
   "id": "22518ecd",
   "metadata": {},
   "outputs": [
    {
     "data": {
      "text/html": [
       "<div><style>\n",
       ".dataframe > thead > tr,\n",
       ".dataframe > tbody > tr {\n",
       "  text-align: right;\n",
       "  white-space: pre-wrap;\n",
       "}\n",
       "</style>\n",
       "<small>shape: (739_726, 7)</small><table border=\"1\" class=\"dataframe\"><thead><tr><th>date</th><th>barrid</th><th>return</th><th>log_return</th><th>cumulative_log_return</th><th>cumulative_compounded_return</th><th>exponentiated_return</th></tr><tr><td>date</td><td>str</td><td>f64</td><td>f64</td><td>f64</td><td>f64</td><td>f64</td></tr></thead><tbody><tr><td>2024-01-02</td><td>&quot;USA06Z1&quot;</td><td>-10.2623</td><td>-0.108279</td><td>-0.108279</td><td>-0.102623</td><td>-0.102623</td></tr><tr><td>2024-01-03</td><td>&quot;USA06Z1&quot;</td><td>-1.2071</td><td>-0.012144</td><td>-0.120424</td><td>-0.113455</td><td>-0.113455</td></tr><tr><td>2024-01-04</td><td>&quot;USA06Z1&quot;</td><td>-0.1929</td><td>-0.001931</td><td>-0.122355</td><td>-0.115165</td><td>-0.115165</td></tr><tr><td>2024-01-05</td><td>&quot;USA06Z1&quot;</td><td>0.5155</td><td>0.005142</td><td>-0.117213</td><td>-0.110604</td><td>-0.110604</td></tr><tr><td>2024-01-08</td><td>&quot;USA06Z1&quot;</td><td>5.3846</td><td>0.052446</td><td>-0.064766</td><td>-0.062714</td><td>-0.062714</td></tr><tr><td>&hellip;</td><td>&hellip;</td><td>&hellip;</td><td>&hellip;</td><td>&hellip;</td><td>&hellip;</td><td>&hellip;</td></tr><tr><td>2024-12-24</td><td>&quot;USBQOR1&quot;</td><td>2.5872</td><td>0.025543</td><td>0.087605</td><td>0.091556</td><td>0.091556</td></tr><tr><td>2024-12-26</td><td>&quot;USBQOR1&quot;</td><td>4.293</td><td>0.042034</td><td>0.129639</td><td>0.138417</td><td>0.138417</td></tr><tr><td>2024-12-27</td><td>&quot;USBQOR1&quot;</td><td>-5.108</td><td>-0.052431</td><td>0.077208</td><td>0.080267</td><td>0.080267</td></tr><tr><td>2024-12-30</td><td>&quot;USBQOR1&quot;</td><td>-4.2663</td><td>-0.0436</td><td>0.033608</td><td>0.034179</td><td>0.034179</td></tr><tr><td>2024-12-31</td><td>&quot;USBQOR1&quot;</td><td>-1.6749</td><td>-0.016891</td><td>0.016717</td><td>0.016858</td><td>0.016858</td></tr></tbody></table></div>"
      ],
      "text/plain": [
       "shape: (739_726, 7)\n",
       "┌────────────┬─────────┬──────────┬────────────┬─────────────────┬────────────────┬────────────────┐\n",
       "│ date       ┆ barrid  ┆ return   ┆ log_return ┆ cumulative_log_ ┆ cumulative_com ┆ exponentiated_ │\n",
       "│ ---        ┆ ---     ┆ ---      ┆ ---        ┆ return          ┆ pounded_return ┆ return         │\n",
       "│ date       ┆ str     ┆ f64      ┆ f64        ┆ ---             ┆ ---            ┆ ---            │\n",
       "│            ┆         ┆          ┆            ┆ f64             ┆ f64            ┆ f64            │\n",
       "╞════════════╪═════════╪══════════╪════════════╪═════════════════╪════════════════╪════════════════╡\n",
       "│ 2024-01-02 ┆ USA06Z1 ┆ -10.2623 ┆ -0.108279  ┆ -0.108279       ┆ -0.102623      ┆ -0.102623      │\n",
       "│ 2024-01-03 ┆ USA06Z1 ┆ -1.2071  ┆ -0.012144  ┆ -0.120424       ┆ -0.113455      ┆ -0.113455      │\n",
       "│ 2024-01-04 ┆ USA06Z1 ┆ -0.1929  ┆ -0.001931  ┆ -0.122355       ┆ -0.115165      ┆ -0.115165      │\n",
       "│ 2024-01-05 ┆ USA06Z1 ┆ 0.5155   ┆ 0.005142   ┆ -0.117213       ┆ -0.110604      ┆ -0.110604      │\n",
       "│ 2024-01-08 ┆ USA06Z1 ┆ 5.3846   ┆ 0.052446   ┆ -0.064766       ┆ -0.062714      ┆ -0.062714      │\n",
       "│ …          ┆ …       ┆ …        ┆ …          ┆ …               ┆ …              ┆ …              │\n",
       "│ 2024-12-24 ┆ USBQOR1 ┆ 2.5872   ┆ 0.025543   ┆ 0.087605        ┆ 0.091556       ┆ 0.091556       │\n",
       "│ 2024-12-26 ┆ USBQOR1 ┆ 4.293    ┆ 0.042034   ┆ 0.129639        ┆ 0.138417       ┆ 0.138417       │\n",
       "│ 2024-12-27 ┆ USBQOR1 ┆ -5.108   ┆ -0.052431  ┆ 0.077208        ┆ 0.080267       ┆ 0.080267       │\n",
       "│ 2024-12-30 ┆ USBQOR1 ┆ -4.2663  ┆ -0.0436    ┆ 0.033608        ┆ 0.034179       ┆ 0.034179       │\n",
       "│ 2024-12-31 ┆ USBQOR1 ┆ -1.6749  ┆ -0.016891  ┆ 0.016717        ┆ 0.016858       ┆ 0.016858       │\n",
       "└────────────┴─────────┴──────────┴────────────┴─────────────────┴────────────────┴────────────────┘"
      ]
     },
     "execution_count": 10,
     "metadata": {},
     "output_type": "execute_result"
    }
   ],
   "source": [
    "def task_exponentiate_returns(df_cum_comp: pl.DataFrame) -> pl.DataFrame:\n",
    "    \"\"\"\n",
    "    Exponentiate the cumulative log returns.\n",
    "\n",
    "    Args:\n",
    "        df_cum_comp: Data frame containing date, barrid, return, log_return, cumulative_log_return, and cumulative_compouned_return.\n",
    "\n",
    "    Returns:\n",
    "        pl.DataFrame: Data frame containing all previous columns plus exponentiated_returns\n",
    "    \"\"\"\n",
    "\n",
    "    df_exp_ret = df_cum_comp.with_columns(\n",
    "        (pl.col(\"cumulative_log_return\").exp() - 1).alias(\"exponentiated_return\")\n",
    "    )\n",
    "    return df_exp_ret\n",
    "df_exp = task_exponentiate_returns(df_cum_comp)\n",
    "\n",
    "df_exp"
   ]
  },
  {
   "cell_type": "code",
   "execution_count": 11,
   "id": "3f01babb",
   "metadata": {},
   "outputs": [],
   "source": [
    "assert df_exp['cumulative_compounded_return'].max() == df_exp['exponentiated_return'].max()"
   ]
  }
 ],
 "metadata": {
  "kernelspec": {
   "display_name": "sf-quant-labs (3.11.7)",
   "language": "python",
   "name": "python3"
  },
  "language_info": {
   "codemirror_mode": {
    "name": "ipython",
    "version": 3
   },
   "file_extension": ".py",
   "mimetype": "text/x-python",
   "name": "python",
   "nbconvert_exporter": "python",
   "pygments_lexer": "ipython3",
   "version": "3.11.7"
  }
 },
 "nbformat": 4,
 "nbformat_minor": 5
}
