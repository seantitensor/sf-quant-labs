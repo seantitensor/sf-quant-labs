{
 "cells": [
  {
   "cell_type": "markdown",
   "id": "18898123",
   "metadata": {},
   "source": [
    "# Lab 4: Momentum II\n",
    "\n",
    "In the last lab we explored how to backtest decile portfolio style trading strategies. In this lab we will explore how to backtest portfolios that are optimized each period to maximize alpha while minimizing variance. "
   ]
  },
  {
   "cell_type": "markdown",
   "id": "99c1f288",
   "metadata": {},
   "source": [
    "## Imports"
   ]
  },
  {
   "cell_type": "code",
   "execution_count": 1,
   "id": "3319359d",
   "metadata": {},
   "outputs": [
    {
     "name": "stderr",
     "output_type": "stream",
     "text": [
      "/home/stiten/Documents/sf-quant-labs/.venv/lib64/python3.11/site-packages/tqdm/auto.py:21: TqdmWarning: IProgress not found. Please update jupyter and ipywidgets. See https://ipywidgets.readthedocs.io/en/stable/user_install.html\n",
      "  from .autonotebook import tqdm as notebook_tqdm\n",
      "2025-09-22 12:49:24,582\tINFO util.py:154 -- Missing packages: ['ipywidgets']. Run `pip install -U ipywidgets`, then restart the notebook server for rich notebook output.\n"
     ]
    }
   ],
   "source": [
    "import sf_quant.data as sfd\n",
    "import sf_quant.optimizer as sfo\n",
    "import sf_quant.backtester as sfb\n",
    "import sf_quant.performance as sfp\n",
    "import polars as pl\n",
    "import datetime as dt\n",
    "import matplotlib.pyplot as plt\n",
    "import seaborn as sns\n",
    "import tqdm"
   ]
  },
  {
   "cell_type": "markdown",
   "id": "6fa4f703",
   "metadata": {},
   "source": [
    "## Data\n",
    "\n",
    "We import the necessary data for you here. We will be doing a backtest from 2023-01-01 to 2024-01-31. However since our signal takes 1 year to compute, we will really only be backtesting 1 month of data."
   ]
  },
  {
   "cell_type": "code",
   "execution_count": 2,
   "id": "f97a4213",
   "metadata": {},
   "outputs": [
    {
     "data": {
      "text/html": [
       "<div><style>\n",
       ".dataframe > thead > tr,\n",
       ".dataframe > tbody > tr {\n",
       "  text-align: right;\n",
       "  white-space: pre-wrap;\n",
       "}\n",
       "</style>\n",
       "<small>shape: (796_990, 7)</small><table border=\"1\" class=\"dataframe\"><thead><tr><th>date</th><th>barrid</th><th>ticker</th><th>price</th><th>return</th><th>specific_risk</th><th>predicted_beta</th></tr><tr><td>date</td><td>str</td><td>str</td><td>f64</td><td>f64</td><td>f64</td><td>f64</td></tr></thead><tbody><tr><td>2023-01-03</td><td>&quot;USA06Z1&quot;</td><td>&quot;MDXG&quot;</td><td>2.97</td><td>6.8345</td><td>47.65898</td><td>1.43155</td></tr><tr><td>2023-01-04</td><td>&quot;USA06Z1&quot;</td><td>&quot;MDXG&quot;</td><td>3.0</td><td>1.0101</td><td>47.539847</td><td>1.428854</td></tr><tr><td>2023-01-05</td><td>&quot;USA06Z1&quot;</td><td>&quot;MDXG&quot;</td><td>3.08</td><td>2.6667</td><td>47.755957</td><td>1.37346</td></tr><tr><td>2023-01-06</td><td>&quot;USA06Z1&quot;</td><td>&quot;MDXG&quot;</td><td>3.21</td><td>4.2208</td><td>48.110135</td><td>1.389274</td></tr><tr><td>2023-01-09</td><td>&quot;USA06Z1&quot;</td><td>&quot;MDXG&quot;</td><td>3.28</td><td>2.1807</td><td>48.612414</td><td>1.348687</td></tr><tr><td>&hellip;</td><td>&hellip;</td><td>&hellip;</td><td>&hellip;</td><td>&hellip;</td><td>&hellip;</td><td>&hellip;</td></tr><tr><td>2024-01-25</td><td>&quot;USBPM41&quot;</td><td>&quot;WS&quot;</td><td>29.38</td><td>-0.3054</td><td>50.968819</td><td>1.408389</td></tr><tr><td>2024-01-26</td><td>&quot;USBPM41&quot;</td><td>&quot;WS&quot;</td><td>29.58</td><td>0.6807</td><td>50.922137</td><td>1.40225</td></tr><tr><td>2024-01-29</td><td>&quot;USBPM41&quot;</td><td>&quot;WS&quot;</td><td>30.28</td><td>2.3665</td><td>50.93332</td><td>1.395143</td></tr><tr><td>2024-01-30</td><td>&quot;USBPM41&quot;</td><td>&quot;WS&quot;</td><td>30.64</td><td>1.1889</td><td>50.438011</td><td>1.380131</td></tr><tr><td>2024-01-31</td><td>&quot;USBPM41&quot;</td><td>&quot;WS&quot;</td><td>29.95</td><td>-2.252</td><td>50.111001</td><td>1.343932</td></tr></tbody></table></div>"
      ],
      "text/plain": [
       "shape: (796_990, 7)\n",
       "┌────────────┬─────────┬────────┬───────┬─────────┬───────────────┬────────────────┐\n",
       "│ date       ┆ barrid  ┆ ticker ┆ price ┆ return  ┆ specific_risk ┆ predicted_beta │\n",
       "│ ---        ┆ ---     ┆ ---    ┆ ---   ┆ ---     ┆ ---           ┆ ---            │\n",
       "│ date       ┆ str     ┆ str    ┆ f64   ┆ f64     ┆ f64           ┆ f64            │\n",
       "╞════════════╪═════════╪════════╪═══════╪═════════╪═══════════════╪════════════════╡\n",
       "│ 2023-01-03 ┆ USA06Z1 ┆ MDXG   ┆ 2.97  ┆ 6.8345  ┆ 47.65898      ┆ 1.43155        │\n",
       "│ 2023-01-04 ┆ USA06Z1 ┆ MDXG   ┆ 3.0   ┆ 1.0101  ┆ 47.539847     ┆ 1.428854       │\n",
       "│ 2023-01-05 ┆ USA06Z1 ┆ MDXG   ┆ 3.08  ┆ 2.6667  ┆ 47.755957     ┆ 1.37346        │\n",
       "│ 2023-01-06 ┆ USA06Z1 ┆ MDXG   ┆ 3.21  ┆ 4.2208  ┆ 48.110135     ┆ 1.389274       │\n",
       "│ 2023-01-09 ┆ USA06Z1 ┆ MDXG   ┆ 3.28  ┆ 2.1807  ┆ 48.612414     ┆ 1.348687       │\n",
       "│ …          ┆ …       ┆ …      ┆ …     ┆ …       ┆ …             ┆ …              │\n",
       "│ 2024-01-25 ┆ USBPM41 ┆ WS     ┆ 29.38 ┆ -0.3054 ┆ 50.968819     ┆ 1.408389       │\n",
       "│ 2024-01-26 ┆ USBPM41 ┆ WS     ┆ 29.58 ┆ 0.6807  ┆ 50.922137     ┆ 1.40225        │\n",
       "│ 2024-01-29 ┆ USBPM41 ┆ WS     ┆ 30.28 ┆ 2.3665  ┆ 50.93332      ┆ 1.395143       │\n",
       "│ 2024-01-30 ┆ USBPM41 ┆ WS     ┆ 30.64 ┆ 1.1889  ┆ 50.438011     ┆ 1.380131       │\n",
       "│ 2024-01-31 ┆ USBPM41 ┆ WS     ┆ 29.95 ┆ -2.252  ┆ 50.111001     ┆ 1.343932       │\n",
       "└────────────┴─────────┴────────┴───────┴─────────┴───────────────┴────────────────┘"
      ]
     },
     "execution_count": 2,
     "metadata": {},
     "output_type": "execute_result"
    }
   ],
   "source": [
    "start = dt.date(2023, 1, 1)\n",
    "end = dt.date(2024, 1, 31)\n",
    "\n",
    "columns = [\n",
    "    'date',\n",
    "    'barrid',\n",
    "    'ticker',\n",
    "    'price',\n",
    "    'return',\n",
    "    'specific_risk',\n",
    "    'predicted_beta'\n",
    "]\n",
    "\n",
    "data = sfd.load_assets(\n",
    "    start=start,\n",
    "    end=end,\n",
    "    in_universe=True,\n",
    "    columns=columns\n",
    ")\n",
    "\n",
    "data"
   ]
  },
  {
   "cell_type": "markdown",
   "id": "d4b6583f",
   "metadata": {},
   "source": [
    "## Compute the Momentum Signal\n",
    "\n",
    "## Instructions\n",
    "\n",
    "- Compute momentum for each security and date as the rolling 230 day return (you can just use log returns here).\n",
    "- Shift the momentum signal 22 days. This will results in the 11 month return from t-12 to t-2."
   ]
  },
  {
   "cell_type": "code",
   "execution_count": 3,
   "id": "10e368fb",
   "metadata": {},
   "outputs": [
    {
     "data": {
      "text/html": [
       "<div><style>\n",
       ".dataframe > thead > tr,\n",
       ".dataframe > tbody > tr {\n",
       "  text-align: right;\n",
       "  white-space: pre-wrap;\n",
       "}\n",
       "</style>\n",
       "<small>shape: (796_990, 9)</small><table border=\"1\" class=\"dataframe\"><thead><tr><th>date</th><th>barrid</th><th>ticker</th><th>price</th><th>return</th><th>specific_risk</th><th>predicted_beta</th><th>log_return</th><th>momentum</th></tr><tr><td>date</td><td>str</td><td>str</td><td>f64</td><td>f64</td><td>f64</td><td>f64</td><td>f64</td><td>f64</td></tr></thead><tbody><tr><td>2023-01-03</td><td>&quot;USA06Z1&quot;</td><td>&quot;MDXG&quot;</td><td>2.97</td><td>6.8345</td><td>47.65898</td><td>1.43155</td><td>0.066111</td><td>null</td></tr><tr><td>2023-01-03</td><td>&quot;USA0C11&quot;</td><td>&quot;FBIN&quot;</td><td>57.98</td><td>1.5234</td><td>17.242483</td><td>1.258299</td><td>0.015119</td><td>null</td></tr><tr><td>2023-01-03</td><td>&quot;USA0H41&quot;</td><td>&quot;INBK&quot;</td><td>24.49</td><td>0.8649</td><td>38.364938</td><td>1.146046</td><td>0.008612</td><td>null</td></tr><tr><td>2023-01-03</td><td>&quot;USA0SY1&quot;</td><td>&quot;UI&quot;</td><td>270.37</td><td>-1.1553</td><td>32.807458</td><td>1.022137</td><td>-0.01162</td><td>null</td></tr><tr><td>2023-01-03</td><td>&quot;USA11I1&quot;</td><td>&quot;EBAY&quot;</td><td>42.15</td><td>1.6397</td><td>20.777432</td><td>1.215919</td><td>0.016264</td><td>null</td></tr><tr><td>&hellip;</td><td>&hellip;</td><td>&hellip;</td><td>&hellip;</td><td>&hellip;</td><td>&hellip;</td><td>&hellip;</td><td>&hellip;</td><td>&hellip;</td></tr><tr><td>2024-01-31</td><td>&quot;USBPGY1&quot;</td><td>&quot;BIRK&quot;</td><td>46.39</td><td>-2.3368</td><td>31.858302</td><td>1.232728</td><td>-0.023645</td><td>null</td></tr><tr><td>2024-01-31</td><td>&quot;USBPID1&quot;</td><td>&quot;NATL&quot;</td><td>22.39</td><td>-2.4401</td><td>31.44603</td><td>1.174775</td><td>-0.024704</td><td>null</td></tr><tr><td>2024-01-31</td><td>&quot;USBPJV1&quot;</td><td>&quot;NLOP&quot;</td><td>24.78</td><td>-1.9391</td><td>63.437399</td><td>1.455797</td><td>-0.019581</td><td>null</td></tr><tr><td>2024-01-31</td><td>&quot;USBPKS1&quot;</td><td>&quot;MURA&quot;</td><td>4.39</td><td>-1.1261</td><td>88.957878</td><td>1.415353</td><td>-0.011325</td><td>null</td></tr><tr><td>2024-01-31</td><td>&quot;USBPM41&quot;</td><td>&quot;WS&quot;</td><td>29.95</td><td>-2.252</td><td>50.111001</td><td>1.343932</td><td>-0.022777</td><td>null</td></tr></tbody></table></div>"
      ],
      "text/plain": [
       "shape: (796_990, 9)\n",
       "┌────────────┬─────────┬────────┬────────┬───┬──────────────┬──────────────┬────────────┬──────────┐\n",
       "│ date       ┆ barrid  ┆ ticker ┆ price  ┆ … ┆ specific_ris ┆ predicted_be ┆ log_return ┆ momentum │\n",
       "│ ---        ┆ ---     ┆ ---    ┆ ---    ┆   ┆ k            ┆ ta           ┆ ---        ┆ ---      │\n",
       "│ date       ┆ str     ┆ str    ┆ f64    ┆   ┆ ---          ┆ ---          ┆ f64        ┆ f64      │\n",
       "│            ┆         ┆        ┆        ┆   ┆ f64          ┆ f64          ┆            ┆          │\n",
       "╞════════════╪═════════╪════════╪════════╪═══╪══════════════╪══════════════╪════════════╪══════════╡\n",
       "│ 2023-01-03 ┆ USA06Z1 ┆ MDXG   ┆ 2.97   ┆ … ┆ 47.65898     ┆ 1.43155      ┆ 0.066111   ┆ null     │\n",
       "│ 2023-01-03 ┆ USA0C11 ┆ FBIN   ┆ 57.98  ┆ … ┆ 17.242483    ┆ 1.258299     ┆ 0.015119   ┆ null     │\n",
       "│ 2023-01-03 ┆ USA0H41 ┆ INBK   ┆ 24.49  ┆ … ┆ 38.364938    ┆ 1.146046     ┆ 0.008612   ┆ null     │\n",
       "│ 2023-01-03 ┆ USA0SY1 ┆ UI     ┆ 270.37 ┆ … ┆ 32.807458    ┆ 1.022137     ┆ -0.01162   ┆ null     │\n",
       "│ 2023-01-03 ┆ USA11I1 ┆ EBAY   ┆ 42.15  ┆ … ┆ 20.777432    ┆ 1.215919     ┆ 0.016264   ┆ null     │\n",
       "│ …          ┆ …       ┆ …      ┆ …      ┆ … ┆ …            ┆ …            ┆ …          ┆ …        │\n",
       "│ 2024-01-31 ┆ USBPGY1 ┆ BIRK   ┆ 46.39  ┆ … ┆ 31.858302    ┆ 1.232728     ┆ -0.023645  ┆ null     │\n",
       "│ 2024-01-31 ┆ USBPID1 ┆ NATL   ┆ 22.39  ┆ … ┆ 31.44603     ┆ 1.174775     ┆ -0.024704  ┆ null     │\n",
       "│ 2024-01-31 ┆ USBPJV1 ┆ NLOP   ┆ 24.78  ┆ … ┆ 63.437399    ┆ 1.455797     ┆ -0.019581  ┆ null     │\n",
       "│ 2024-01-31 ┆ USBPKS1 ┆ MURA   ┆ 4.39   ┆ … ┆ 88.957878    ┆ 1.415353     ┆ -0.011325  ┆ null     │\n",
       "│ 2024-01-31 ┆ USBPM41 ┆ WS     ┆ 29.95  ┆ … ┆ 50.111001    ┆ 1.343932     ┆ -0.022777  ┆ null     │\n",
       "└────────────┴─────────┴────────┴────────┴───┴──────────────┴──────────────┴────────────┴──────────┘"
      ]
     },
     "execution_count": 3,
     "metadata": {},
     "output_type": "execute_result"
    }
   ],
   "source": [
    "def task_compute_momentum(data: pl.DataFrame) -> pl.DataFrame:\n",
    "    \"\"\"\n",
    "    Compute the t_12 to t_2 momentum signal for each secrutiy and date combination.\n",
    "    \n",
    "    Args:\n",
    "        data (pl.DataFrame): Data frame containing date, barrid, price, and return columns.\n",
    "    \n",
    "    Returns:\n",
    "        pl.DataFrame: Data frame with columns date, barrid, price, return, and momentum columns.\n",
    "    \"\"\"\n",
    "    log_returns = data.with_columns(\n",
    "        pl.col('return').truediv(100).log1p().alias('log_return')\n",
    "    )\n",
    "    momentum = ( log_returns.sort('date', 'barrid').with_columns(\n",
    "            pl.col('log_return').rolling_sum(window_size=230).over('barrid').alias('momentum')\n",
    "        )\n",
    "        .with_columns(\n",
    "            pl.col('momentum').shift(22).over('barrid').alias('momentum')\n",
    "        )\n",
    "    )\n",
    "    \n",
    "    return momentum\n",
    "\n",
    "momentum = task_compute_momentum(data)\n",
    "\n",
    "momentum"
   ]
  },
  {
   "cell_type": "markdown",
   "id": "103df9e3",
   "metadata": {},
   "source": [
    "## Compute the Alphas\n",
    "\n",
    "In order to make our momentum signal usable in our optimizer we will use a predetermined Information Coefficient of 0.05 and the forecasted idiosyncratic risk provided by Barra to convert our signal into alpha forecasts.\n",
    "\n",
    "### Instructions\n",
    "- For each date z-score the momentum signal across all asssets cross sectionally and call this `score`.\n",
    "- Using the `specific_risk` column compute the alphas as `0.05` * `score` * `specific_risk`.\n",
    "- Note: Make sure to divide `specific_risk` by 100 to put it in decimal space. "
   ]
  },
  {
   "cell_type": "code",
   "execution_count": 4,
   "id": "a9ce3c12",
   "metadata": {},
   "outputs": [
    {
     "data": {
      "text/html": [
       "<div><style>\n",
       ".dataframe > thead > tr,\n",
       ".dataframe > tbody > tr {\n",
       "  text-align: right;\n",
       "  white-space: pre-wrap;\n",
       "}\n",
       "</style>\n",
       "<small>shape: (796_990, 11)</small><table border=\"1\" class=\"dataframe\"><thead><tr><th>date</th><th>barrid</th><th>ticker</th><th>price</th><th>return</th><th>specific_risk</th><th>predicted_beta</th><th>log_return</th><th>momentum</th><th>score</th><th>alpha</th></tr><tr><td>date</td><td>str</td><td>str</td><td>f64</td><td>f64</td><td>f64</td><td>f64</td><td>f64</td><td>f64</td><td>f64</td><td>f64</td></tr></thead><tbody><tr><td>2023-01-03</td><td>&quot;USA06Z1&quot;</td><td>&quot;MDXG&quot;</td><td>2.97</td><td>6.8345</td><td>0.4765898</td><td>1.43155</td><td>0.066111</td><td>null</td><td>null</td><td>null</td></tr><tr><td>2023-01-03</td><td>&quot;USA0C11&quot;</td><td>&quot;FBIN&quot;</td><td>57.98</td><td>1.5234</td><td>0.172425</td><td>1.258299</td><td>0.015119</td><td>null</td><td>null</td><td>null</td></tr><tr><td>2023-01-03</td><td>&quot;USA0H41&quot;</td><td>&quot;INBK&quot;</td><td>24.49</td><td>0.8649</td><td>0.383649</td><td>1.146046</td><td>0.008612</td><td>null</td><td>null</td><td>null</td></tr><tr><td>2023-01-03</td><td>&quot;USA0SY1&quot;</td><td>&quot;UI&quot;</td><td>270.37</td><td>-1.1553</td><td>0.328075</td><td>1.022137</td><td>-0.01162</td><td>null</td><td>null</td><td>null</td></tr><tr><td>2023-01-03</td><td>&quot;USA11I1&quot;</td><td>&quot;EBAY&quot;</td><td>42.15</td><td>1.6397</td><td>0.207774</td><td>1.215919</td><td>0.016264</td><td>null</td><td>null</td><td>null</td></tr><tr><td>&hellip;</td><td>&hellip;</td><td>&hellip;</td><td>&hellip;</td><td>&hellip;</td><td>&hellip;</td><td>&hellip;</td><td>&hellip;</td><td>&hellip;</td><td>&hellip;</td><td>&hellip;</td></tr><tr><td>2024-01-31</td><td>&quot;USBPGY1&quot;</td><td>&quot;BIRK&quot;</td><td>46.39</td><td>-2.3368</td><td>0.318583</td><td>1.232728</td><td>-0.023645</td><td>null</td><td>null</td><td>null</td></tr><tr><td>2024-01-31</td><td>&quot;USBPID1&quot;</td><td>&quot;NATL&quot;</td><td>22.39</td><td>-2.4401</td><td>0.3144603</td><td>1.174775</td><td>-0.024704</td><td>null</td><td>null</td><td>null</td></tr><tr><td>2024-01-31</td><td>&quot;USBPJV1&quot;</td><td>&quot;NLOP&quot;</td><td>24.78</td><td>-1.9391</td><td>0.634374</td><td>1.455797</td><td>-0.019581</td><td>null</td><td>null</td><td>null</td></tr><tr><td>2024-01-31</td><td>&quot;USBPKS1&quot;</td><td>&quot;MURA&quot;</td><td>4.39</td><td>-1.1261</td><td>0.889579</td><td>1.415353</td><td>-0.011325</td><td>null</td><td>null</td><td>null</td></tr><tr><td>2024-01-31</td><td>&quot;USBPM41&quot;</td><td>&quot;WS&quot;</td><td>29.95</td><td>-2.252</td><td>0.50111</td><td>1.343932</td><td>-0.022777</td><td>null</td><td>null</td><td>null</td></tr></tbody></table></div>"
      ],
      "text/plain": [
       "shape: (796_990, 11)\n",
       "┌────────────┬─────────┬────────┬────────┬───┬────────────┬──────────┬───────┬───────┐\n",
       "│ date       ┆ barrid  ┆ ticker ┆ price  ┆ … ┆ log_return ┆ momentum ┆ score ┆ alpha │\n",
       "│ ---        ┆ ---     ┆ ---    ┆ ---    ┆   ┆ ---        ┆ ---      ┆ ---   ┆ ---   │\n",
       "│ date       ┆ str     ┆ str    ┆ f64    ┆   ┆ f64        ┆ f64      ┆ f64   ┆ f64   │\n",
       "╞════════════╪═════════╪════════╪════════╪═══╪════════════╪══════════╪═══════╪═══════╡\n",
       "│ 2023-01-03 ┆ USA06Z1 ┆ MDXG   ┆ 2.97   ┆ … ┆ 0.066111   ┆ null     ┆ null  ┆ null  │\n",
       "│ 2023-01-03 ┆ USA0C11 ┆ FBIN   ┆ 57.98  ┆ … ┆ 0.015119   ┆ null     ┆ null  ┆ null  │\n",
       "│ 2023-01-03 ┆ USA0H41 ┆ INBK   ┆ 24.49  ┆ … ┆ 0.008612   ┆ null     ┆ null  ┆ null  │\n",
       "│ 2023-01-03 ┆ USA0SY1 ┆ UI     ┆ 270.37 ┆ … ┆ -0.01162   ┆ null     ┆ null  ┆ null  │\n",
       "│ 2023-01-03 ┆ USA11I1 ┆ EBAY   ┆ 42.15  ┆ … ┆ 0.016264   ┆ null     ┆ null  ┆ null  │\n",
       "│ …          ┆ …       ┆ …      ┆ …      ┆ … ┆ …          ┆ …        ┆ …     ┆ …     │\n",
       "│ 2024-01-31 ┆ USBPGY1 ┆ BIRK   ┆ 46.39  ┆ … ┆ -0.023645  ┆ null     ┆ null  ┆ null  │\n",
       "│ 2024-01-31 ┆ USBPID1 ┆ NATL   ┆ 22.39  ┆ … ┆ -0.024704  ┆ null     ┆ null  ┆ null  │\n",
       "│ 2024-01-31 ┆ USBPJV1 ┆ NLOP   ┆ 24.78  ┆ … ┆ -0.019581  ┆ null     ┆ null  ┆ null  │\n",
       "│ 2024-01-31 ┆ USBPKS1 ┆ MURA   ┆ 4.39   ┆ … ┆ -0.011325  ┆ null     ┆ null  ┆ null  │\n",
       "│ 2024-01-31 ┆ USBPM41 ┆ WS     ┆ 29.95  ┆ … ┆ -0.022777  ┆ null     ┆ null  ┆ null  │\n",
       "└────────────┴─────────┴────────┴────────┴───┴────────────┴──────────┴───────┴───────┘"
      ]
     },
     "execution_count": 4,
     "metadata": {},
     "output_type": "execute_result"
    }
   ],
   "source": [
    "def task_compute_alphas(momentum: pl.DataFrame) -> pl.DataFrame:\n",
    "    \"\"\" \n",
    "    Compute the alphas for each security and date combo.\n",
    "\n",
    "    Args:\n",
    "        momentum (pl.DataFrame): Data frame containing barrid, date, specific_risk, and momentum columns.\n",
    "    \n",
    "    Returns:\n",
    "        pl.DataFrame: Data frame containing barrid, date, specific_risk, momentum, score, and alpha columns.\n",
    "    \"\"\"\n",
    "    clean_momentum = momentum.with_columns(pl.col('specific_risk').truediv(100).fill_null(strategy='forward').over('barrid'))\n",
    "\n",
    "    scores_df = clean_momentum.with_columns(\n",
    "            ((pl.col('momentum') - pl.col('momentum').mean().over('date')) / (pl.col('momentum').std().over('date'))).alias('score'),\n",
    "        )\n",
    "    alphas = scores_df.with_columns(\n",
    "            (0.05 * pl.col('score') * pl.col('specific_risk').truediv(100)).alias('alpha')\n",
    "        )\n",
    "    return alphas\n",
    "\n",
    "alphas = task_compute_alphas(momentum)\n",
    "\n",
    "alphas"
   ]
  },
  {
   "cell_type": "code",
   "execution_count": 5,
   "id": "bdf6eab3",
   "metadata": {},
   "outputs": [
    {
     "data": {
      "text/html": [
       "<div><style>\n",
       ".dataframe > thead > tr,\n",
       ".dataframe > tbody > tr {\n",
       "  text-align: right;\n",
       "  white-space: pre-wrap;\n",
       "}\n",
       "</style>\n",
       "<small>shape: (48_271, 12)</small><table border=\"1\" class=\"dataframe\"><thead><tr><th>date</th><th>barrid</th><th>ticker</th><th>price</th><th>return</th><th>specific_risk</th><th>predicted_beta</th><th>log_return</th><th>momentum</th><th>score</th><th>alpha</th><th>price_lag</th></tr><tr><td>date</td><td>str</td><td>str</td><td>f64</td><td>f64</td><td>f64</td><td>f64</td><td>f64</td><td>f64</td><td>f64</td><td>f64</td><td>f64</td></tr></thead><tbody><tr><td>2024-01-03</td><td>&quot;USA06Z1&quot;</td><td>&quot;MDXG&quot;</td><td>7.775</td><td>-1.2071</td><td>0.498276</td><td>1.092049</td><td>-0.012144</td><td>1.027828</td><td>2.291715</td><td>0.000571</td><td>7.87</td></tr><tr><td>2024-01-04</td><td>&quot;USA06Z1&quot;</td><td>&quot;MDXG&quot;</td><td>7.76</td><td>-0.1929</td><td>0.497463</td><td>1.098982</td><td>-0.001931</td><td>0.989638</td><td>2.186411</td><td>0.000544</td><td>7.775</td></tr><tr><td>2024-01-05</td><td>&quot;USA06Z1&quot;</td><td>&quot;MDXG&quot;</td><td>7.8</td><td>0.5155</td><td>0.495355</td><td>1.063097</td><td>0.005142</td><td>0.979587</td><td>2.186923</td><td>0.000542</td><td>7.76</td></tr><tr><td>2024-01-08</td><td>&quot;USA06Z1&quot;</td><td>&quot;MDXG&quot;</td><td>8.22</td><td>5.3846</td><td>0.494352</td><td>1.085788</td><td>0.052446</td><td>0.936866</td><td>2.069079</td><td>0.000511</td><td>7.8</td></tr><tr><td>2024-01-09</td><td>&quot;USA06Z1&quot;</td><td>&quot;MDXG&quot;</td><td>8.03</td><td>-2.3114</td><td>0.494685</td><td>1.182189</td><td>-0.023385</td><td>0.896796</td><td>2.054735</td><td>0.000508</td><td>8.22</td></tr><tr><td>&hellip;</td><td>&hellip;</td><td>&hellip;</td><td>&hellip;</td><td>&hellip;</td><td>&hellip;</td><td>&hellip;</td><td>&hellip;</td><td>&hellip;</td><td>&hellip;</td><td>&hellip;</td><td>&hellip;</td></tr><tr><td>2024-01-29</td><td>&quot;USBONP1&quot;</td><td>&quot;MBC&quot;</td><td>14.65</td><td>2.2331</td><td>0.3174</td><td>1.346623</td><td>0.022085</td><td>0.526594</td><td>1.172817</td><td>0.000186</td><td>14.33</td></tr><tr><td>2024-01-30</td><td>&quot;USBONP1&quot;</td><td>&quot;MBC&quot;</td><td>14.59</td><td>-0.4096</td><td>0.317128</td><td>1.334121</td><td>-0.004104</td><td>0.502256</td><td>1.122952</td><td>0.000178</td><td>14.65</td></tr><tr><td>2024-01-31</td><td>&quot;USBONP1&quot;</td><td>&quot;MBC&quot;</td><td>14.07</td><td>-3.5641</td><td>0.316861</td><td>1.356568</td><td>-0.036292</td><td>0.521707</td><td>1.151499</td><td>0.000182</td><td>14.59</td></tr><tr><td>2024-01-31</td><td>&quot;USBOOA1&quot;</td><td>&quot;GEHC&quot;</td><td>73.36</td><td>-0.8649</td><td>0.241306</td><td>1.023964</td><td>-0.008687</td><td>0.082302</td><td>0.174131</td><td>0.000021</td><td>74.0</td></tr><tr><td>2024-01-31</td><td>&quot;USBOQH1&quot;</td><td>&quot;VTS&quot;</td><td>21.01</td><td>-3.3134</td><td>0.329312</td><td>0.997244</td><td>-0.033695</td><td>0.46301</td><td>1.020939</td><td>0.000168</td><td>21.73</td></tr></tbody></table></div>"
      ],
      "text/plain": [
       "shape: (48_271, 12)\n",
       "┌────────────┬─────────┬────────┬───────┬───┬──────────┬──────────┬──────────┬───────────┐\n",
       "│ date       ┆ barrid  ┆ ticker ┆ price ┆ … ┆ momentum ┆ score    ┆ alpha    ┆ price_lag │\n",
       "│ ---        ┆ ---     ┆ ---    ┆ ---   ┆   ┆ ---      ┆ ---      ┆ ---      ┆ ---       │\n",
       "│ date       ┆ str     ┆ str    ┆ f64   ┆   ┆ f64      ┆ f64      ┆ f64      ┆ f64       │\n",
       "╞════════════╪═════════╪════════╪═══════╪═══╪══════════╪══════════╪══════════╪═══════════╡\n",
       "│ 2024-01-03 ┆ USA06Z1 ┆ MDXG   ┆ 7.775 ┆ … ┆ 1.027828 ┆ 2.291715 ┆ 0.000571 ┆ 7.87      │\n",
       "│ 2024-01-04 ┆ USA06Z1 ┆ MDXG   ┆ 7.76  ┆ … ┆ 0.989638 ┆ 2.186411 ┆ 0.000544 ┆ 7.775     │\n",
       "│ 2024-01-05 ┆ USA06Z1 ┆ MDXG   ┆ 7.8   ┆ … ┆ 0.979587 ┆ 2.186923 ┆ 0.000542 ┆ 7.76      │\n",
       "│ 2024-01-08 ┆ USA06Z1 ┆ MDXG   ┆ 8.22  ┆ … ┆ 0.936866 ┆ 2.069079 ┆ 0.000511 ┆ 7.8       │\n",
       "│ 2024-01-09 ┆ USA06Z1 ┆ MDXG   ┆ 8.03  ┆ … ┆ 0.896796 ┆ 2.054735 ┆ 0.000508 ┆ 8.22      │\n",
       "│ …          ┆ …       ┆ …      ┆ …     ┆ … ┆ …        ┆ …        ┆ …        ┆ …         │\n",
       "│ 2024-01-29 ┆ USBONP1 ┆ MBC    ┆ 14.65 ┆ … ┆ 0.526594 ┆ 1.172817 ┆ 0.000186 ┆ 14.33     │\n",
       "│ 2024-01-30 ┆ USBONP1 ┆ MBC    ┆ 14.59 ┆ … ┆ 0.502256 ┆ 1.122952 ┆ 0.000178 ┆ 14.65     │\n",
       "│ 2024-01-31 ┆ USBONP1 ┆ MBC    ┆ 14.07 ┆ … ┆ 0.521707 ┆ 1.151499 ┆ 0.000182 ┆ 14.59     │\n",
       "│ 2024-01-31 ┆ USBOOA1 ┆ GEHC   ┆ 73.36 ┆ … ┆ 0.082302 ┆ 0.174131 ┆ 0.000021 ┆ 74.0      │\n",
       "│ 2024-01-31 ┆ USBOQH1 ┆ VTS    ┆ 21.01 ┆ … ┆ 0.46301  ┆ 1.020939 ┆ 0.000168 ┆ 21.73     │\n",
       "└────────────┴─────────┴────────┴───────┴───┴──────────┴──────────┴──────────┴───────────┘"
      ]
     },
     "execution_count": 5,
     "metadata": {},
     "output_type": "execute_result"
    }
   ],
   "source": [
    "def task_price_filter(alphas: pl.DataFrame) -> pl.DataFrame:\n",
    "    \"\"\"\n",
    "    Filter the universe to lagged price greater than 5 and non-null alpha.\n",
    "    \n",
    "    Args:\n",
    "        alphas (pl.DataFrame): Data frame containing barrid, date, specific_risk, momentum, score, and alpha columns.\n",
    "    Returns:\n",
    "        pl.DataFrame: Data frame containing barrid, date, specific_risk, momentum, score, and alpha columns.\n",
    "    \"\"\"\n",
    "    alphas_filtered = (alphas\n",
    "                        .sort('barrid', 'date')\n",
    "                        .with_columns(pl.col('price').shift(1).over('barrid').alias('price_lag'))\n",
    "                        .filter(\n",
    "            pl.col('price_lag') > 5, \n",
    "            pl.col('alpha').is_not_null()\n",
    "       )\n",
    "       .sort('barrid', 'date')\n",
    "    )\n",
    "    return alphas_filtered\n",
    "\n",
    "price_filter = task_price_filter(alphas)\n",
    "\n",
    "price_filter"
   ]
  },
  {
   "cell_type": "markdown",
   "id": "333b134e",
   "metadata": {},
   "source": [
    "## Backtest\n",
    "\n",
    "Now that we have our alphas we will compute the MVO portfolios for each date in our sample.\n",
    "\n",
    "### Instructions\n",
    "- Use the `FullInvestment`, `LongOnly`, `NoBuyingOnMargin`, and `UnitBeta` constraints.\n",
    "- For each unique date in the `price_filter` data frame find the optimal weights using `sf_quant.optimizer.mve_optimizer`.\n",
    "- Note: for the `UnitBeta` constraint to work you will need to provide the predicted betas to the optimizer in each itteration.\n",
    "- Hint: the optimizer assumes that your alpha vector and covariance matrix are both sorted the same way.\n",
    "- Hint: use a gamma of 10."
   ]
  },
  {
   "cell_type": "code",
   "execution_count": 6,
   "id": "46de1d6c",
   "metadata": {},
   "outputs": [
    {
     "name": "stderr",
     "output_type": "stream",
     "text": [
      "Computing portfolios:   0%|          | 0/20 [00:00<?, ?it/s]\n"
     ]
    },
    {
     "ename": "ValueError",
     "evalue": "operands could not be broadcast together with shapes (76,77) (77,76) (76,77) ",
     "output_type": "error",
     "traceback": [
      "\u001b[31m---------------------------------------------------------------------------\u001b[39m",
      "\u001b[31mValueError\u001b[39m                                Traceback (most recent call last)",
      "\u001b[36mCell\u001b[39m\u001b[36m \u001b[39m\u001b[32mIn[6]\u001b[39m\u001b[32m, line 78\u001b[39m\n\u001b[32m     74\u001b[39m         portfolio_list.append(portfolio)\n\u001b[32m     76\u001b[39m     \u001b[38;5;28;01mreturn\u001b[39;00m pl.concat(portfolio_list)\n\u001b[32m---> \u001b[39m\u001b[32m78\u001b[39m weights = \u001b[43mtask_backtest\u001b[49m\u001b[43m(\u001b[49m\u001b[43mprice_filter\u001b[49m\u001b[43m)\u001b[49m\n\u001b[32m     80\u001b[39m weights\n",
      "\u001b[36mCell\u001b[39m\u001b[36m \u001b[39m\u001b[32mIn[6]\u001b[39m\u001b[32m, line 59\u001b[39m, in \u001b[36mtask_backtest\u001b[39m\u001b[34m(price_filter)\u001b[39m\n\u001b[32m     56\u001b[39m alphas_np = subset[\u001b[33m'\u001b[39m\u001b[33malpha\u001b[39m\u001b[33m'\u001b[39m].to_numpy()\n\u001b[32m     57\u001b[39m betas_np = subset[\u001b[33m'\u001b[39m\u001b[33mpredicted_beta\u001b[39m\u001b[33m'\u001b[39m].to_numpy()\n\u001b[32m---> \u001b[39m\u001b[32m59\u001b[39m cov_mat = \u001b[43msfd\u001b[49m\u001b[43m.\u001b[49m\u001b[43mconstruct_covariance_matrix\u001b[49m\u001b[43m(\u001b[49m\u001b[43mdate_\u001b[49m\u001b[43m,\u001b[49m\u001b[43m \u001b[49m\u001b[43mbarrids\u001b[49m\u001b[43m)\u001b[49m.drop(\u001b[33m'\u001b[39m\u001b[33mbarrid\u001b[39m\u001b[33m'\u001b[39m).to_numpy()\n\u001b[32m     61\u001b[39m portfolio = sfo.mve_optimizer(\n\u001b[32m     62\u001b[39m     ids=barrids,\n\u001b[32m     63\u001b[39m     alphas=alphas_np,\n\u001b[32m   (...)\u001b[39m\u001b[32m     67\u001b[39m     betas=betas_np\n\u001b[32m     68\u001b[39m )\n\u001b[32m     70\u001b[39m portfolio = portfolio.with_columns(\n\u001b[32m     71\u001b[39m     pl.lit(date_).alias(\u001b[33m'\u001b[39m\u001b[33mdate\u001b[39m\u001b[33m'\u001b[39m)\n\u001b[32m     72\u001b[39m )\n",
      "\u001b[36mFile \u001b[39m\u001b[32m~/Documents/sf-quant-labs/.venv/lib64/python3.11/site-packages/sf_quant/data/covariance_matrix.py:65\u001b[39m, in \u001b[36mconstruct_covariance_matrix\u001b[39m\u001b[34m(date_, barrids)\u001b[39m\n\u001b[32m     60\u001b[39m \u001b[38;5;66;03m# Load\u001b[39;00m\n\u001b[32m     61\u001b[39m exposures_matrix = (\n\u001b[32m     62\u001b[39m     _construct_factor_exposure_matrix(date_, barrids).drop(\u001b[33m\"\u001b[39m\u001b[33mbarrid\u001b[39m\u001b[33m\"\u001b[39m).to_numpy()\n\u001b[32m     63\u001b[39m )\n\u001b[32m     64\u001b[39m covariance_matrix = (\n\u001b[32m---> \u001b[39m\u001b[32m65\u001b[39m     \u001b[43m_construct_factor_covariance_matrix\u001b[49m\u001b[43m(\u001b[49m\u001b[43mdate_\u001b[49m\u001b[43m)\u001b[49m.drop(\u001b[33m\"\u001b[39m\u001b[33mfactor_1\u001b[39m\u001b[33m\"\u001b[39m).to_numpy()\n\u001b[32m     66\u001b[39m )\n\u001b[32m     67\u001b[39m idio_risk_matrix = (\n\u001b[32m     68\u001b[39m     _construct_specific_risk_matrix(date_, barrids).drop(\u001b[33m\"\u001b[39m\u001b[33mbarrid\u001b[39m\u001b[33m\"\u001b[39m).to_numpy()\n\u001b[32m     69\u001b[39m )\n\u001b[32m     71\u001b[39m \u001b[38;5;66;03m# Compute covariance matrix\u001b[39;00m\n",
      "\u001b[36mFile \u001b[39m\u001b[32m~/Documents/sf-quant-labs/.venv/lib64/python3.11/site-packages/sf_quant/data/covariance_matrix.py:119\u001b[39m, in \u001b[36m_construct_factor_covariance_matrix\u001b[39m\u001b[34m(date_)\u001b[39m\n\u001b[32m    117\u001b[39m \u001b[38;5;66;03m# Convert from upper triangular to symetric\u001b[39;00m\n\u001b[32m    118\u001b[39m utm = fc_df.drop(\u001b[33m\"\u001b[39m\u001b[33mfactor_1\u001b[39m\u001b[33m\"\u001b[39m).to_numpy()\n\u001b[32m--> \u001b[39m\u001b[32m119\u001b[39m cov_mat = \u001b[43mnp\u001b[49m\u001b[43m.\u001b[49m\u001b[43mwhere\u001b[49m\u001b[43m(\u001b[49m\u001b[43mnp\u001b[49m\u001b[43m.\u001b[49m\u001b[43misnan\u001b[49m\u001b[43m(\u001b[49m\u001b[43mutm\u001b[49m\u001b[43m)\u001b[49m\u001b[43m,\u001b[49m\u001b[43m \u001b[49m\u001b[43mutm\u001b[49m\u001b[43m.\u001b[49m\u001b[43mT\u001b[49m\u001b[43m,\u001b[49m\u001b[43m \u001b[49m\u001b[43mutm\u001b[49m\u001b[43m)\u001b[49m\n\u001b[32m    121\u001b[39m \u001b[38;5;66;03m# Package\u001b[39;00m\n\u001b[32m    122\u001b[39m cov_mat = pl.DataFrame(\n\u001b[32m    123\u001b[39m     {\n\u001b[32m    124\u001b[39m         \u001b[33m\"\u001b[39m\u001b[33mfactor_1\u001b[39m\u001b[33m\"\u001b[39m: factors,\n\u001b[32m    125\u001b[39m         **{col: cov_mat[:, idx] \u001b[38;5;28;01mfor\u001b[39;00m idx, col \u001b[38;5;129;01min\u001b[39;00m \u001b[38;5;28menumerate\u001b[39m(factors)},\n\u001b[32m    126\u001b[39m     }\n\u001b[32m    127\u001b[39m )\n",
      "\u001b[31mValueError\u001b[39m: operands could not be broadcast together with shapes (76,77) (77,76) (76,77) "
     ]
    }
   ],
   "source": [
    "def task_backtest(price_filter: pl.DataFrame) -> pl.DataFrame:\n",
    "    \"\"\"\n",
    "    Compute the optimal portfolio weights for each day in our sample.\n",
    "    \n",
    "    Args:\n",
    "        price_filter (pl.DataFrame): Data frame containing barrid, date, specific_risk, momentum, score, and alpha columns.\n",
    "    Returns:\n",
    "        pl.DataFrame: Data frame containing barrid, date, and weight columns.\n",
    "    \"\"\"\n",
    "\n",
    "#     constraints = [sfo.LongOnly(), sfo.FullInvestment(), sfo.NoBuyingOnMargin(), sfo.UnitBeta()]\n",
    "\n",
    "#     daily_portfolio = []\n",
    "#     for date_ in tqdm.tqdm(price_filter.select(pl.col(\"date\")).unique().\n",
    "#         sort(by=\"date\").to_series().to_list()):\n",
    "#         date_df = price_filter.filter(pl.col(\"date\") == date_).sort(\"barrid\")\n",
    "#         alphas =  date_df.select(pl.col(\"alpha\")).to_numpy().flatten()\n",
    "#         betas = date_df.select(pl.col(\"predicted_beta\")).to_numpy().flatten()\n",
    "#         barrids = date_df.select(pl.col(\"barrid\")).to_series().to_list()\n",
    "#         cov_mat = sfd.construct_covariance_matrix(date_=date_, barrids=barrids).drop('barrid').to_numpy()\n",
    "#         weights = sfo.mve_optimizer(\n",
    "#             ids=barrids,\n",
    "#             alphas=alphas,\n",
    "#             covariance_matrix=cov_mat,\n",
    "#             constraints=constraints,\n",
    "#             gamma=10,\n",
    "#             betas=betas\n",
    "#         )\n",
    "\n",
    "#         daily_portfolio.append(weights)\n",
    "\n",
    "#     return pl.concat(daily_portfolio)\n",
    "\n",
    "# weights = task_backtest(price_filter)\n",
    "\n",
    "# weights\n",
    "\n",
    "    dates = price_filter['date'].unique().sort().to_list()\n",
    "\n",
    "    constraints = [\n",
    "        sfo.FullInvestment(),\n",
    "        sfo.LongOnly(),\n",
    "        sfo.NoBuyingOnMargin(),\n",
    "        sfo.UnitBeta()\n",
    "    ]\n",
    "\n",
    "    portfolio_list = []\n",
    "    for date_ in tqdm.tqdm(dates, \"Computing portfolios\"):\n",
    "        subset = (\n",
    "            price_filter.filter(\n",
    "                pl.col('date').eq(date_)\n",
    "            )\n",
    "            .sort('barrid')\n",
    "        )\n",
    "        barrids = subset['barrid'].to_list()\n",
    "        alphas_np = subset['alpha'].to_numpy()\n",
    "        betas_np = subset['predicted_beta'].to_numpy()\n",
    "\n",
    "        cov_mat = sfd.construct_covariance_matrix(date_, barrids).drop('barrid').to_numpy()\n",
    "\n",
    "        portfolio = sfo.mve_optimizer(\n",
    "            ids=barrids,\n",
    "            alphas=alphas_np,\n",
    "            covariance_matrix=cov_mat,\n",
    "            constraints=constraints,\n",
    "            gamma=10,\n",
    "            betas=betas_np\n",
    "        )\n",
    "\n",
    "        portfolio = portfolio.with_columns(\n",
    "            pl.lit(date_).alias('date')\n",
    "        )\n",
    "\n",
    "        portfolio_list.append(portfolio)\n",
    "\n",
    "    return pl.concat(portfolio_list)\n",
    "\n",
    "weights = task_backtest(price_filter)\n",
    "\n",
    "weights"
   ]
  },
  {
   "cell_type": "code",
   "execution_count": 27,
   "id": "68b3582f",
   "metadata": {},
   "outputs": [
    {
     "data": {
      "text/plain": [
       "2407"
      ]
     },
     "execution_count": 27,
     "metadata": {},
     "output_type": "execute_result"
    }
   ],
   "source": [
    "        \n",
    "date_df = price_filter.filter(pl.col(\"date\") == dt.date(2024, 1, 31)).sort(\"barrid\")\n",
    "alphas =  date_df.select(pl.col(\"alpha\")).to_numpy().flatten()\n",
    "betas = date_df.select(pl.col(\"predicted_beta\")).to_numpy().flatten()\n",
    "barrids = date_df.select(pl.col(\"barrid\")).to_series().to_list()\n",
    "len(betas)"
   ]
  },
  {
   "cell_type": "markdown",
   "id": "dbf5739e",
   "metadata": {},
   "source": [
    "## Performance Analysis\n",
    "\n",
    "Now that we have our optimal weights we will join the returns from our initial dataset. \n",
    "\n",
    "### Instructions\n",
    "- Join the returns from `data` and compute the return and cumulative return of the portfolio using the optimal weights.\n",
    "- Note: since our covariance matrix isn't lagged we will need to shift our returns forward. To do this use `.shift(-1)` by `barrid` and call it `fwd_return`.\n",
    "- Chart the cumulative returns of the portfolio."
   ]
  },
  {
   "cell_type": "code",
   "execution_count": null,
   "id": "ac6035ba",
   "metadata": {},
   "outputs": [],
   "source": [
    "def task_compute_returns(weights: pl.DataFrame, data: pl.DataFrame) -> pl.DataFrame:\n",
    "    \"\"\" \n",
    "    Compute the optimal portfolio returns.\n",
    "\n",
    "    Args:\n",
    "        weights (pl.DataFrame): Data frame containing barrid, date, and weight columns.\n",
    "        data (pl.DataFrame): Data frame containing barrid, date, and return columns\n",
    "\n",
    "    Returns:\n",
    "        pl.DataFrame: Data frame containing date, fwd_return, and cumulative_fwd_return_columns\n",
    "    \"\"\"\n",
    "    merged = weights.join(\n",
    "        data,\n",
    "        on=['barrid', 'date'],\n",
    "        how='left'\n",
    "    ).with_columns(\n",
    "        (pl.col('weight') * pl.col('return').truediv(100)).alias('contribution')\n",
    "    )\n",
    "\n",
    "    daily_returns = merged.groupby('date').agg(\n",
    "        pl.col('contribution').sum().alias('fwd_return').shift(-1)\n",
    "    ).sort('date').with_columns(\n",
    "        (1 + pl.col('fwd_return')).cumprod().alias('cumulative_fwd_return')\n",
    "    )\n",
    "\n",
    "    return daily_returns         \n",
    "\n",
    "returns = task_compute_returns(weights, data)\n",
    "\n",
    "returns"
   ]
  },
  {
   "cell_type": "code",
   "execution_count": null,
   "id": "1cd6c858",
   "metadata": {},
   "outputs": [],
   "source": [
    "# TODO: Chart the cumulative returns of the portfolio."
   ]
  },
  {
   "cell_type": "markdown",
   "id": "437c6c46",
   "metadata": {},
   "source": [
    "## Benchmark Decomposition\n",
    "\n",
    "You should find that our portfolio is up and to the right. But the question is how much of that is due to the market being up versus our signal being good. We will find out by joining the benchmark weights to our `weights` data frame and computing the active weights.\n",
    "\n",
    "### Instructions\n",
    "\n",
    "- Pull in the benchmark weights using `sf_quant.data.load_benchmark`.\n",
    "- Join the benchmark weights to the optimal weights.\n",
    "- Compute the active weights as `weight` - `weight_bmk` = `weight_act`\n",
    "- Unpivot the weight columns and compute the forward return for each portfolio (total, benchmark, and active). "
   ]
  },
  {
   "cell_type": "code",
   "execution_count": null,
   "id": "5ef508f7",
   "metadata": {},
   "outputs": [],
   "source": [
    "def task_return_decomposition(weights: pl.DataFrame, data: pl.DataFrame) -> pl.DataFrame:\n",
    "    \"\"\" \n",
    "    Compute the forward returns for the total, benchmark, and active portfolios.\n",
    "\n",
    "    Args:\n",
    "        weights (pl.DataFrame): Data frame containing barrid, date, and weight columns.\n",
    "        data (pl.DataFrame): Data frame containing barrid, date, and return columns\n",
    "\n",
    "    Returns:\n",
    "        pl.DataFrame: Data frame containing date, portfolio, fwd_return, and cumulative_fwd_return columns        \n",
    "    \"\"\"\n",
    "    # TODO: Finish this function.\n",
    "    pass\n",
    "\n",
    "returns_decomp = task_return_decomposition(weights, data)\n",
    "\n",
    "returns_decomp"
   ]
  },
  {
   "cell_type": "code",
   "execution_count": null,
   "id": "6314221a",
   "metadata": {},
   "outputs": [],
   "source": [
    "# TODO: Chart the cumulative returns of each portfolio\n",
    "# HINT: Use seaborn.lineplot() with the attribute hue='portfolio'"
   ]
  },
  {
   "cell_type": "code",
   "execution_count": null,
   "id": "46d271c0",
   "metadata": {},
   "outputs": [],
   "source": [
    "# TODO: Compute the annual average return, annual volatility, and annualized sharpe ratio for each portfolio."
   ]
  },
  {
   "cell_type": "markdown",
   "id": "b78b4b5a",
   "metadata": {},
   "source": [
    "## `sf_quant` Backtester Module\n",
    "\n",
    "That was a lot of fun right? Just kidding. All of that code takes a lot of work. That's why we've implemented a backtester in the `sf_quant` package. Let's practice using it really quick and compare our results.\n",
    "\n",
    "### Instructions\n",
    "- Declare your constraints the same way you did previously.\n",
    "- Use a gamma of 10.\n",
    "- Find the optimal weights using the `sf_quant.backtester` module.\n",
    "- Hint: use the `backtest_parallel()` module to run your backtest in parallel across all the cores on your machine."
   ]
  },
  {
   "cell_type": "code",
   "execution_count": null,
   "id": "a7d4fef1",
   "metadata": {},
   "outputs": [],
   "source": [
    "def task_backtest_sf(price_filter: pl.DataFrame) -> pl.DataFrame:\n",
    "    \"\"\" \n",
    "    Compute the optimal portfolio weights using the `sf_quant` package.\n",
    "\n",
    "    Args:\n",
    "        price_filter (pl.DataFrame): Data frame containing barrid, date, specific_risk, momentum, score, and alpha columns.\n",
    "\n",
    "    Returns:\n",
    "        pl.DataFrame: Data frame containing barrid, date, and weight columns.\n",
    "    \"\"\"\n",
    "    # TODO: Finish this function.\n",
    "    pass\n",
    "\n",
    "weights_sf = task_backtest_sf(price_filter)\n",
    "\n",
    "weights_sf"
   ]
  },
  {
   "cell_type": "markdown",
   "id": "fa70bd84",
   "metadata": {},
   "source": [
    "## `sf_quant` Performance Package\n",
    "\n",
    "It's also not a lot of fun to merge the returns dataset and do a full decomposition manually. You can do that with `sf_quant.performance` too.\n",
    "\n",
    "### Instructions\n",
    "\n",
    "- Compute the portfolio forward returns decomposition using the `generate_returns_from_weights` function.\n",
    "- Chart the cumulative returns of the portfolios using the `generate_returns_chart` function.\n",
    "- Generate the summary table using the `generate_summary_table` function."
   ]
  },
  {
   "cell_type": "code",
   "execution_count": null,
   "id": "cda5d986",
   "metadata": {},
   "outputs": [],
   "source": [
    "def task_return_decomposition_sf(weights_sf: pl.DataFrame) -> pl.DataFrame:\n",
    "    \"\"\" \n",
    "    Compute the returns decomposition using the `sf_quant` package.\n",
    "\n",
    "    Args:\n",
    "        weights_sf (pl.DataFrame): Data frame containing date, barrid, and weight columns.\n",
    "\n",
    "    Returns:\n",
    "        pl.DataFrame: Data frame containing date, portfolio, and return (fwd_return) columns\n",
    "    \"\"\"\n",
    "    # TODO: Finish this function.\n",
    "    pass\n",
    "\n",
    "returns_sf = task_return_decomposition_sf(weights_sf)\n",
    "\n",
    "returns_sf"
   ]
  },
  {
   "cell_type": "code",
   "execution_count": null,
   "id": "9a77ffc2",
   "metadata": {},
   "outputs": [],
   "source": [
    "# TODO: Generate the returns chart"
   ]
  },
  {
   "cell_type": "code",
   "execution_count": null,
   "id": "7d74038d",
   "metadata": {},
   "outputs": [],
   "source": [
    "# TODO: Generate the summary table"
   ]
  },
  {
   "cell_type": "code",
   "execution_count": null,
   "id": "2ba0ae9c",
   "metadata": {},
   "outputs": [],
   "source": []
  }
 ],
 "metadata": {
  "kernelspec": {
   "display_name": "sf-quant-labs (3.11.7)",
   "language": "python",
   "name": "python3"
  },
  "language_info": {
   "codemirror_mode": {
    "name": "ipython",
    "version": 3
   },
   "file_extension": ".py",
   "mimetype": "text/x-python",
   "name": "python",
   "nbconvert_exporter": "python",
   "pygments_lexer": "ipython3",
   "version": "3.11.7"
  }
 },
 "nbformat": 4,
 "nbformat_minor": 5
}
